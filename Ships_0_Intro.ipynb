{
 "cells": [
  {
   "cell_type": "markdown",
   "metadata": {},
   "source": [
    "# Airbus Ship Detection\n",
    "\n",
    "Karl Heyer\n",
    "\n",
    "These notebooks detail my solution to Kaggle's [Airbus Ship Detection](https://www.kaggle.com/c/airbus-ship-detection) challenge. This solution scored 139 out of 884 for the competition.\n",
    "\n",
    "The goal of the competition is to analyze satellite images of container ships and produce segmentation masks of the ships.\n",
    "\n",
    "![img](00ce2c1c0.jpg)\n",
    "![img](00ce2c1c0_mask.png)\n",
    "\n",
    "Some challenges involved:\n",
    "   * Many ships are very small. This causes a few issues. Firstly, it is easy to miss tiny ships, and the evaluation metric for the competition (IoU at thresholds) heavily penalizes missing a ship. Compounding on this is the fact that the model can achieve a very high accuracy by guessing that everything is background when evaluating an image with a small ship. A loss function that gets around this is required. Secondly, as the model trains to successfully identify small ships, it starts to identify false positives from other small features, like a breaking wave. \n",
    "   * The dataset is heavily imbalanced. The vast majority of the images have no ships in them - they are just empty water.\n",
    "   * Many ship images are near docks. Docks have many non-ship features that can easily be misidentified as ships.\n",
    "   * The segmentation masks used as ground truth were created programatically, likely using a bounding box method. This results in masks that are perfect rectangles. These masks include corners that are not actually part of a ship. A problem can arise where the segmentation model creates masks that match the contrours of the ship, thus missing the corners included in the mask and getting penalized.\n",
    "   * Many images include ships docked close together. Segmentation models produce a blobby mask that merges both ships into a single area. Combining ships in this fashion is penalized by the scoring metric.\n",
    "   \n",
    "My approach to this challenge broke the problem down into two parts. First, a segmentation model was trained using only images with ships in them - avoiding any blank images of the ocean. Then a classification model was trained to determine if a particular image has a ship in it or not.\n",
    "\n",
    "For predicting on the test set, images were first classified by the classification model. Any image classified as empty would receive a blank mask. The images classified as having a ship in them were sent to the segmentation model. Segmentation masks are cleaned up in post processing before being saved.\n",
    "\n",
    "The notebooks showing the solution are trained with a validation set to evaluate model performance. To reproduce the solution that scored 139/884, the notebooks need to be run training on the entire dataset."
   ]
  }
 ],
 "metadata": {
  "kernelspec": {
   "display_name": "Python 3",
   "language": "python",
   "name": "python3"
  },
  "language_info": {
   "codemirror_mode": {
    "name": "ipython",
    "version": 3
   },
   "file_extension": ".py",
   "mimetype": "text/x-python",
   "name": "python",
   "nbconvert_exporter": "python",
   "pygments_lexer": "ipython3",
   "version": "3.6.5"
  }
 },
 "nbformat": 4,
 "nbformat_minor": 2
}
